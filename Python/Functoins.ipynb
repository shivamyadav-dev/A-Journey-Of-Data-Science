{
 "cells": [
  {
   "cell_type": "markdown",
   "id": "4c23a7ec-67b3-4a33-b46e-87e69c1da909",
   "metadata": {},
   "source": [
    "# function in  python"
   ]
  },
  {
   "cell_type": "code",
   "execution_count": 1,
   "id": "ea3fa100-b55a-4620-8286-0d99fd5c98c3",
   "metadata": {},
   "outputs": [],
   "source": [
    "def hello():\n",
    "    print('good evening')\n",
    "    "
   ]
  },
  {
   "cell_type": "code",
   "execution_count": 2,
   "id": "3ba4b4cc-3ec4-4ea5-911d-a1cbc55b04e2",
   "metadata": {},
   "outputs": [
    {
     "name": "stdout",
     "output_type": "stream",
     "text": [
      "good evening\n"
     ]
    }
   ],
   "source": [
    "hello()"
   ]
  },
  {
   "cell_type": "code",
   "execution_count": 3,
   "id": "ca30abb4-cffd-49a3-8076-7b4dede0af2f",
   "metadata": {},
   "outputs": [
    {
     "name": "stdout",
     "output_type": "stream",
     "text": [
      "11\n"
     ]
    }
   ],
   "source": [
    "def add(x,y):\n",
    "    c=x+y\n",
    "    print(c)\n",
    "add(5,6)"
   ]
  },
  {
   "cell_type": "code",
   "execution_count": 5,
   "id": "b533d8a7-64d4-459a-b63a-d348d6fd3b2b",
   "metadata": {},
   "outputs": [
    {
     "name": "stdout",
     "output_type": "stream",
     "text": [
      "18\n"
     ]
    }
   ],
   "source": [
    "def add (x,y,z):\n",
    "    c=x+y+z\n",
    "    print(c)\n",
    "add(5,6,7)"
   ]
  },
  {
   "cell_type": "code",
   "execution_count": 6,
   "id": "c5412e61-b06f-4c4f-9d97-f3d3aff3f48e",
   "metadata": {},
   "outputs": [
    {
     "data": {
      "text/plain": [
       "18"
      ]
     },
     "execution_count": 6,
     "metadata": {},
     "output_type": "execute_result"
    }
   ],
   "source": [
    "def add (x,y,z):\n",
    "    c=x+y+z\n",
    "    return c\n",
    "add(5,6,7)"
   ]
  },
  {
   "cell_type": "code",
   "execution_count": 9,
   "id": "7122bd86-86f3-4a29-a51b-d88620ef2fc6",
   "metadata": {},
   "outputs": [
    {
     "name": "stdout",
     "output_type": "stream",
     "text": [
      "good evening\n",
      "11\n"
     ]
    }
   ],
   "source": [
    "def hello():\n",
    "    print('good evening')\n",
    "    \n",
    "def add(x,y):\n",
    "    c=x+y\n",
    "    print(c)\n",
    "    \n",
    "    \n",
    "hello()    \n",
    "add(5,6)\n"
   ]
  },
  {
   "cell_type": "code",
   "execution_count": 10,
   "id": "2f725661-e898-4e5b-82ed-694fd34eb10d",
   "metadata": {},
   "outputs": [
    {
     "data": {
      "text/plain": [
       "(9, -1)"
      ]
     },
     "execution_count": 10,
     "metadata": {},
     "output_type": "execute_result"
    }
   ],
   "source": [
    "def add_sub(x,y):\n",
    "    c=x+y\n",
    "    d=x-y\n",
    "    return c,d # give output as tuple format \n",
    "add_sub(4,5)"
   ]
  },
  {
   "cell_type": "code",
   "execution_count": null,
   "id": "8284914e-6931-4ef7-ab0a-6828c97e53b0",
   "metadata": {},
   "outputs": [],
   "source": [
    "def add_sub(x,y):\n",
    "    c=x+y\n",
    "    d=x-y\n",
    "    return c,d # give output as tuple format \n",
    "add_sub(4,5)"
   ]
  },
  {
   "cell_type": "code",
   "execution_count": 14,
   "id": "d24b46c3-5d4f-4cf8-816b-00b42a6ce166",
   "metadata": {},
   "outputs": [
    {
     "name": "stdout",
     "output_type": "stream",
     "text": [
      "9\n",
      "-1\n",
      "20\n"
     ]
    }
   ],
   "source": [
    "def add_sub(x,y):\n",
    "    c=x+y\n",
    "    d=x-y\n",
    "    e=x*y\n",
    "    return c,d,e\n",
    "result,result1,result2=add_sub(4,5)\n",
    "print(result)\n",
    "print(result1)\n",
    "print(result2)\n",
    "\n",
    "    "
   ]
  },
  {
   "cell_type": "code",
   "execution_count": 15,
   "id": "4c745b9f-bfe4-48f4-9fb9-207a37761d9d",
   "metadata": {},
   "outputs": [
    {
     "name": "stdout",
     "output_type": "stream",
     "text": [
      "8\n"
     ]
    }
   ],
   "source": [
    "def update():\n",
    "    x=8\n",
    "    print(x)\n",
    "update()"
   ]
  },
  {
   "cell_type": "code",
   "execution_count": null,
   "id": "48895cee-80cc-4383-b9a7-f02f2ac11947",
   "metadata": {},
   "outputs": [],
   "source": []
  }
 ],
 "metadata": {
  "kernelspec": {
   "display_name": "Python 3 (ipykernel)",
   "language": "python",
   "name": "python3"
  },
  "language_info": {
   "codemirror_mode": {
    "name": "ipython",
    "version": 3
   },
   "file_extension": ".py",
   "mimetype": "text/x-python",
   "name": "python",
   "nbconvert_exporter": "python",
   "pygments_lexer": "ipython3",
   "version": "3.13.5"
  }
 },
 "nbformat": 4,
 "nbformat_minor": 5
}
