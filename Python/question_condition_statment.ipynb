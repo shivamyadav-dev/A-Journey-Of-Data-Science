{
 "cells": [
  {
   "cell_type": "markdown",
   "id": "af33d930",
   "metadata": {},
   "source": [
    "## 1. What is the input() function in Python used for?"
   ]
  },
  {
   "cell_type": "markdown",
   "id": "be1beba6",
   "metadata": {},
   "source": [
    "for takaing input from the users"
   ]
  },
  {
   "cell_type": "markdown",
   "id": "2e633f64",
   "metadata": {},
   "source": [
    "## 2. How can you accept an integer as input from the user using input()?"
   ]
  },
  {
   "cell_type": "code",
   "execution_count": null,
   "id": "cabe0c8e",
   "metadata": {},
   "outputs": [
    {
     "name": "stdout",
     "output_type": "stream",
     "text": [
      "3\n"
     ]
    }
   ],
   "source": [
    "## by using typecasting  that convert the input str into integer\n",
    "num1 = int(input(\"enter any integer \"))\n",
    "print(num1)  "
   ]
  },
  {
   "cell_type": "markdown",
   "id": "0f75221c",
   "metadata": {},
   "source": [
    "## 3. How do you accept a float input from the user?\n"
   ]
  },
  {
   "cell_type": "code",
   "execution_count": null,
   "id": "ef8e1f51",
   "metadata": {},
   "outputs": [
    {
     "name": "stdout",
     "output_type": "stream",
     "text": [
      "5.0\n"
     ]
    }
   ],
   "source": [
    "# by using float typecasting with input function\n",
    "num2 =float(input(\"enter any number \"))\n",
    "print(num2)"
   ]
  },
  {
   "cell_type": "markdown",
   "id": "3b3cb916",
   "metadata": {},
   "source": [
    "## 4. How can you take multiple space-separated values as input?\n"
   ]
  },
  {
   "cell_type": "code",
   "execution_count": 18,
   "id": "af5eab2d",
   "metadata": {},
   "outputs": [
    {
     "name": "stdout",
     "output_type": "stream",
     "text": [
      "['15', '5', '5', '55', '5']\n"
     ]
    }
   ],
   "source": [
    "a=input(\" enter a value \").split()\n",
    "print(a)"
   ]
  },
  {
   "cell_type": "markdown",
   "id": "eeb2dd2e",
   "metadata": {},
   "source": [
    "## 5. How do you check if a number entered by the user is positive, negative, or zero?\n"
   ]
  },
  {
   "cell_type": "code",
   "execution_count": 21,
   "id": "3f3155d7",
   "metadata": {},
   "outputs": [
    {
     "name": "stdout",
     "output_type": "stream",
     "text": [
      "the given number is negative\n"
     ]
    }
   ],
   "source": [
    "a = int(input(\"enter any value \"))\n",
    "if a>0:\n",
    "    print(\"the given number is positive\")\n",
    "elif a==0:\n",
    "    print(\"the given number is zero\")\n",
    "else:\n",
    "    print (\"the given number is negative\")    \n"
   ]
  },
  {
   "cell_type": "markdown",
   "id": "a21ab543",
   "metadata": {},
   "source": [
    "## 6. How do you convert user input to a list of integers?\n"
   ]
  },
  {
   "cell_type": "code",
   "execution_count": 32,
   "id": "707d8f9d",
   "metadata": {},
   "outputs": [
    {
     "name": "stdout",
     "output_type": "stream",
     "text": [
      "[45, 88, 9, 7, 9, 5, 9]\n"
     ]
    }
   ],
   "source": [
    "a = [int(x)for x in input(\"enter number \").split()]\n",
    "\n",
    "\n",
    "print (a)"
   ]
  },
  {
   "cell_type": "markdown",
   "id": "2c77236c",
   "metadata": {},
   "source": [
    "## 7. How do you accept a string input and print it in uppercase?\n"
   ]
  },
  {
   "cell_type": "code",
   "execution_count": 35,
   "id": "9d3d21b7",
   "metadata": {},
   "outputs": [
    {
     "name": "stdout",
     "output_type": "stream",
     "text": [
      "THIS IS THE STRING \n"
     ]
    }
   ],
   "source": [
    "\n",
    "a=input(\"enter any string \")\n",
    "print(a.upper())"
   ]
  },
  {
   "cell_type": "markdown",
   "id": "94073abe",
   "metadata": {},
   "source": [
    "## 8. Write a Python program that accepts a string and prints the number of vowels in it.\n",
    "\n"
   ]
  },
  {
   "cell_type": "code",
   "execution_count": 53,
   "id": "094f1e02",
   "metadata": {},
   "outputs": [
    {
     "name": "stdout",
     "output_type": "stream",
     "text": [
      "3\n"
     ]
    }
   ],
   "source": [
    "a =input(\"enter any message \")\n",
    "v =\"a,i,e,o,u\"\n",
    "c=0\n",
    "b=a.lower()\n",
    "for ch in b:\n",
    "        c+=1\n",
    "if c>0:\n",
    "    print(c)\n",
    "else:\n",
    "    print(\"there is no vowels\")\n",
    "\n",
    "\n",
    "    "
   ]
  },
  {
   "cell_type": "markdown",
   "id": "02feb278",
   "metadata": {},
   "source": [
    "## 9. Write a program that takes a number as input and checks if it is even or odd.\n"
   ]
  },
  {
   "cell_type": "code",
   "execution_count": 55,
   "id": "26f0d167",
   "metadata": {},
   "outputs": [
    {
     "name": "stdout",
     "output_type": "stream",
     "text": [
      "the given number is even\n"
     ]
    }
   ],
   "source": [
    "a = int(input(\"enter any number\"))\n",
    "if a%2==0:\n",
    "    print(\"the given number is even\")\n",
    "else:\n",
    "    print(\"the given number is odd \")"
   ]
  },
  {
   "cell_type": "markdown",
   "id": "6fd45987",
   "metadata": {},
   "source": [
    "## 10. How would you check if a string is a palindrome using input()?\n"
   ]
  },
  {
   "cell_type": "code",
   "execution_count": 58,
   "id": "83fcae5b",
   "metadata": {},
   "outputs": [
    {
     "name": "stdout",
     "output_type": "stream",
     "text": [
      "the given text is palindrome\n"
     ]
    }
   ],
   "source": [
    "a = input(\"enter any message \")\n",
    "if a==a[::-1]:\n",
    "\n",
    "    print(\"the given text is palindrome\")\n",
    "else:\n",
    "    print(\"not a palimdrome \")"
   ]
  },
  {
   "cell_type": "markdown",
   "id": "d6b4cce3",
   "metadata": {},
   "source": [
    "## 11. Write a program that takes a number as input and prints its square.\n"
   ]
  },
  {
   "cell_type": "code",
   "execution_count": 59,
   "id": "fd4f78c3",
   "metadata": {},
   "outputs": [
    {
     "name": "stdout",
     "output_type": "stream",
     "text": [
      "the square of the given number is 4\n"
     ]
    }
   ],
   "source": [
    "a = int(input(\"enter any number \"))\n",
    "print(f\"the square of the given number is {a**2}\") "
   ]
  },
  {
   "cell_type": "markdown",
   "id": "03629b30",
   "metadata": {},
   "source": [
    "## 12. Write a program that asks for a number and prints whether it is divisible by 3.\n",
    "\n"
   ]
  },
  {
   "cell_type": "code",
   "execution_count": 61,
   "id": "5abc64bb",
   "metadata": {},
   "outputs": [
    {
     "name": "stdout",
     "output_type": "stream",
     "text": [
      "the given number is divisible by 3\n"
     ]
    }
   ],
   "source": [
    "a =int(input(\"enter any number \"))\n",
    "if a%3==0:\n",
    "    print(\"the given number is divisible by 3\")\n",
    "else:\n",
    " print(\"the given number is not divisible by 3\")\n"
   ]
  },
  {
   "cell_type": "markdown",
   "id": "009fd1b7",
   "metadata": {},
   "source": [
    "## 13. How would you check if a number is divisible by both 3 and 7?\n"
   ]
  },
  {
   "cell_type": "code",
   "execution_count": 65,
   "id": "b0fd7b63",
   "metadata": {},
   "outputs": [
    {
     "name": "stdout",
     "output_type": "stream",
     "text": [
      "the given number is not divisible by 3 and 7\n"
     ]
    }
   ],
   "source": [
    "a=int(input(\"enter any number \"))\n",
    "if a%3==0 and a%7==0:\n",
    "    print(\"the given number is divisible by 3 and 7\")\n",
    "else:\n",
    "    print(\"the given number is not divisible by 3 and 7\")\n",
    "\n",
    "    "
   ]
  },
  {
   "cell_type": "markdown",
   "id": "df0a71c8",
   "metadata": {},
   "source": [
    "## 14. How do you accept a list of comma-separated values as input?\n"
   ]
  },
  {
   "cell_type": "code",
   "execution_count": 5,
   "id": "f1d6cf53",
   "metadata": {},
   "outputs": [
    {
     "name": "stdout",
     "output_type": "stream",
     "text": [
      "list['10,55,6,9,77,1,']\n"
     ]
    }
   ],
   "source": [
    "a =list[input(\"enter your list \")]\n",
    "print(a)"
   ]
  },
  {
   "cell_type": "markdown",
   "id": "dcc3d393",
   "metadata": {},
   "source": [
    "## 15. Write a Python program that takes two numbers as input and prints their product.\n"
   ]
  },
  {
   "cell_type": "code",
   "execution_count": 67,
   "id": "63e9fe52",
   "metadata": {},
   "outputs": [
    {
     "name": "stdout",
     "output_type": "stream",
     "text": [
      "the product of two number is 10\n"
     ]
    }
   ],
   "source": [
    "a=int(input(\"enter  first number\"))\n",
    "b=int(input(\"enter second number \"))\n",
    "print(f\"the product of two number is {a*b}\")"
   ]
  },
  {
   "cell_type": "markdown",
   "id": "300adf15",
   "metadata": {},
   "source": [
    "## 16. Write a program that checks if the input number is a prime number.\n"
   ]
  },
  {
   "cell_type": "code",
   "execution_count": null,
   "id": "6cf5c751",
   "metadata": {},
   "outputs": [
    {
     "name": "stdout",
     "output_type": "stream",
     "text": [
      "the given number is not prime number \n"
     ]
    }
   ],
   "source": [
    "a = int(input(\"enter any number \"))\n",
    "if a>1:\n",
    "    for i in range (2,a):\n",
    "        a%i==0\n",
    "    print(\"the given number is not prime number \")\n",
    "\n",
    "else:\n",
    "    print(\"the given number is not  a prime number \")\n"
   ]
  },
  {
   "cell_type": "markdown",
   "id": "dd47188c",
   "metadata": {},
   "source": [
    "## 17. How can you accept a boolean value (True/False) from the user?\n"
   ]
  },
  {
   "cell_type": "code",
   "execution_count": null,
   "id": "a73c275b",
   "metadata": {},
   "outputs": [],
   "source": []
  },
  {
   "cell_type": "markdown",
   "id": "ebf2feed",
   "metadata": {},
   "source": [
    "## 32. Write a program that checks if the entered number is divisible by both 3 and 5.\n",
    "\n"
   ]
  },
  {
   "cell_type": "code",
   "execution_count": 96,
   "id": "535b4d19",
   "metadata": {},
   "outputs": [
    {
     "name": "stdout",
     "output_type": "stream",
     "text": [
      "number is divisible by both 3 and 5\n"
     ]
    }
   ],
   "source": [
    "a= int(input(\"enter any number \"))\n",
    "if a%3==0 and a%5==0:\n",
    "    print(\"number is divisible by both 3 and 5\")\n",
    "else:\n",
    "    print(\"number is not  divisible by both 3 and 5\")"
   ]
  },
  {
   "cell_type": "code",
   "execution_count": 98,
   "id": "ebce7f11",
   "metadata": {},
   "outputs": [
    {
     "name": "stdout",
     "output_type": "stream",
     "text": [
      "given number is multiple of 10\n"
     ]
    }
   ],
   "source": [
    "a=int(input (\"enter any number \"))\n",
    "if a%10==0:\n",
    "    print(\"given number is multiple of 10\")\n",
    "else:\n",
    "    print(\"given number is not multiple of 10\")"
   ]
  },
  {
   "cell_type": "code",
   "execution_count": 111,
   "id": "a17bb588",
   "metadata": {},
   "outputs": [
    {
     "name": "stdout",
     "output_type": "stream",
     "text": [
      "false\n"
     ]
    }
   ],
   "source": [
    "a=int(input(\"enter any year\"))\n",
    "if a%4==0:\n",
    "    print(\"true\")\n",
    "elif a%100==0:\n",
    "    print(\"true\")\n",
    "elif a%400==0:\n",
    "    print(\"true\")\n",
    "else:\n",
    "    print(\"false\")\n",
    "        "
   ]
  },
  {
   "cell_type": "markdown",
   "id": "1bce1239",
   "metadata": {},
   "source": [
    "## 18. Write a program that accepts a string and prints the reverse of that string.\n"
   ]
  },
  {
   "cell_type": "code",
   "execution_count": 113,
   "id": "c0d295e1",
   "metadata": {},
   "outputs": [
    {
     "name": "stdout",
     "output_type": "stream",
     "text": [
      "fsd hfdfkjhs\n"
     ]
    }
   ],
   "source": [
    "a=input(\"entre a string \")\n",
    "print(a[::-1])"
   ]
  },
  {
   "cell_type": "code",
   "execution_count": null,
   "id": "973655f0",
   "metadata": {},
   "outputs": [],
   "source": []
  }
 ],
 "metadata": {
  "kernelspec": {
   "display_name": "base",
   "language": "python",
   "name": "python3"
  },
  "language_info": {
   "codemirror_mode": {
    "name": "ipython",
    "version": 3
   },
   "file_extension": ".py",
   "mimetype": "text/x-python",
   "name": "python",
   "nbconvert_exporter": "python",
   "pygments_lexer": "ipython3",
   "version": "3.13.5"
  }
 },
 "nbformat": 4,
 "nbformat_minor": 5
}
