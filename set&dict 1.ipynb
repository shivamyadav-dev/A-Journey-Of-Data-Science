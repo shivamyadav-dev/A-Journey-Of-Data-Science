{
 "cells": [
  {
   "cell_type": "markdown",
   "id": "4334e927-dfd6-4eb2-ab1c-5e631c8a8528",
   "metadata": {},
   "source": [
    "# 6th aug "
   ]
  },
  {
   "cell_type": "markdown",
   "id": "5a4971ae-d425-4c4c-a5cd-79ab3c7e2c29",
   "metadata": {},
   "source": [
    "# superset,subset and disjiont"
   ]
  },
  {
   "cell_type": "code",
   "execution_count": 2,
   "id": "f4613d4f-f1c6-46b5-99ee-1f73661756c4",
   "metadata": {},
   "outputs": [],
   "source": [
    "a1 = {1,2,3,4,5,6,7,8,9}\n",
    "b1 = {3,4,5,6,7,8}\n",
    "c1 = {10,20,30,40}"
   ]
  },
  {
   "cell_type": "code",
   "execution_count": 4,
   "id": "bea1e940-0813-4820-8a72-e7cc5cb0fd98",
   "metadata": {},
   "outputs": [
    {
     "data": {
      "text/plain": [
       "True"
      ]
     },
     "execution_count": 4,
     "metadata": {},
     "output_type": "execute_result"
    }
   ],
   "source": [
    "a1.issuperset(b1)"
   ]
  },
  {
   "cell_type": "code",
   "execution_count": 5,
   "id": "c19b62cb-cf2c-4b21-97cd-14b448990fa0",
   "metadata": {},
   "outputs": [
    {
     "data": {
      "text/plain": [
       "False"
      ]
     },
     "execution_count": 5,
     "metadata": {},
     "output_type": "execute_result"
    }
   ],
   "source": [
    "b1.issuperset(a1)"
   ]
  },
  {
   "cell_type": "code",
   "execution_count": 7,
   "id": "0f1addbb-d503-4f49-b53f-beb9efc52395",
   "metadata": {},
   "outputs": [
    {
     "data": {
      "text/plain": [
       "True"
      ]
     },
     "execution_count": 7,
     "metadata": {},
     "output_type": "execute_result"
    }
   ],
   "source": [
    "c1.isdisjoint(a1)"
   ]
  },
  {
   "cell_type": "code",
   "execution_count": 8,
   "id": "3febc30e-ffe6-4d4d-a614-771b6c46b68a",
   "metadata": {},
   "outputs": [
    {
     "data": {
      "text/plain": [
       "True"
      ]
     },
     "execution_count": 8,
     "metadata": {},
     "output_type": "execute_result"
    }
   ],
   "source": [
    "b1.issubset(a1)"
   ]
  },
  {
   "cell_type": "code",
   "execution_count": 9,
   "id": "11d31ef2-793e-4a3c-bad4-be38d23e2edf",
   "metadata": {},
   "outputs": [
    {
     "data": {
      "text/plain": [
       "False"
      ]
     },
     "execution_count": 9,
     "metadata": {},
     "output_type": "execute_result"
    }
   ],
   "source": [
    "b1.isdisjoint(a1)"
   ]
  },
  {
   "cell_type": "code",
   "execution_count": 10,
   "id": "0864f190-9f9b-4c2f-b104-27fa0b194c88",
   "metadata": {},
   "outputs": [
    {
     "data": {
      "text/plain": [
       "True"
      ]
     },
     "execution_count": 10,
     "metadata": {},
     "output_type": "execute_result"
    }
   ],
   "source": [
    "b1.isdisjoint(c1)"
   ]
  },
  {
   "cell_type": "code",
   "execution_count": 14,
   "id": "2e6dd1d5-941f-4c3c-a0b2-a8745a036090",
   "metadata": {},
   "outputs": [],
   "source": [
    "a2 = {1,2,3,4,5,6,7,8,9}\n",
    "b2 = {35,45,55,65,75,85}\n",
    "c2 = {10,20,30,40}"
   ]
  },
  {
   "cell_type": "code",
   "execution_count": 15,
   "id": "135d4cec-de2e-440b-8eeb-97430237f89f",
   "metadata": {},
   "outputs": [
    {
     "data": {
      "text/plain": [
       "True"
      ]
     },
     "execution_count": 15,
     "metadata": {},
     "output_type": "execute_result"
    }
   ],
   "source": [
    "a2.isdisjoint(b2)"
   ]
  },
  {
   "cell_type": "code",
   "execution_count": 16,
   "id": "17ace410-6d89-45a8-aa66-e69a84dd22c8",
   "metadata": {},
   "outputs": [
    {
     "data": {
      "text/plain": [
       "False"
      ]
     },
     "execution_count": 16,
     "metadata": {},
     "output_type": "execute_result"
    }
   ],
   "source": [
    "a2.issubset(b2)"
   ]
  },
  {
   "cell_type": "code",
   "execution_count": 17,
   "id": "762a06dd-160e-4946-8357-43a4f08ddbe1",
   "metadata": {},
   "outputs": [
    {
     "data": {
      "text/plain": [
       "False"
      ]
     },
     "execution_count": 17,
     "metadata": {},
     "output_type": "execute_result"
    }
   ],
   "source": [
    "b2.issubset(a2)"
   ]
  },
  {
   "cell_type": "code",
   "execution_count": 18,
   "id": "ecf4f2d3-342f-4a2a-82a7-12afb8b115b5",
   "metadata": {},
   "outputs": [
    {
     "data": {
      "text/plain": [
       "True"
      ]
     },
     "execution_count": 18,
     "metadata": {},
     "output_type": "execute_result"
    }
   ],
   "source": [
    "c2.isdisjoint(a2)"
   ]
  },
  {
   "cell_type": "markdown",
   "id": "9128956d-25b1-4778-b9dd-297dd4264aeb",
   "metadata": {},
   "source": [
    "# DICTIONARY"
   ]
  },
  {
   "cell_type": "code",
   "execution_count": 19,
   "id": "6d01d898-442d-454f-9b15-567c4e7058af",
   "metadata": {},
   "outputs": [
    {
     "data": {
      "text/plain": [
       "{}"
      ]
     },
     "execution_count": 19,
     "metadata": {},
     "output_type": "execute_result"
    }
   ],
   "source": [
    "d={}\n",
    "d"
   ]
  },
  {
   "cell_type": "code",
   "execution_count": 20,
   "id": "0f9c9ea0-ed30-487f-ade7-97419e786236",
   "metadata": {},
   "outputs": [
    {
     "data": {
      "text/plain": [
       "dict"
      ]
     },
     "execution_count": 20,
     "metadata": {},
     "output_type": "execute_result"
    }
   ],
   "source": [
    "type(d)"
   ]
  },
  {
   "cell_type": "code",
   "execution_count": 21,
   "id": "a5b25f40-dae0-434a-b52e-644281f3492d",
   "metadata": {},
   "outputs": [
    {
     "data": {
      "text/plain": [
       "{1: 'one', 2: 'two', 3: 'three'}"
      ]
     },
     "execution_count": 21,
     "metadata": {},
     "output_type": "execute_result"
    }
   ],
   "source": [
    "d1={1:'one',2:'two',3:'three'}\n",
    "d1"
   ]
  },
  {
   "cell_type": "code",
   "execution_count": 22,
   "id": "be78e920-8f38-49c8-9bca-ca7cf8c1a417",
   "metadata": {},
   "outputs": [
    {
     "data": {
      "text/plain": [
       "dict_keys([1, 2, 3])"
      ]
     },
     "execution_count": 22,
     "metadata": {},
     "output_type": "execute_result"
    }
   ],
   "source": [
    "d1.keys()"
   ]
  },
  {
   "cell_type": "code",
   "execution_count": 23,
   "id": "52fbd2ce-3be0-4124-8f0c-0f2bcf5b3457",
   "metadata": {},
   "outputs": [
    {
     "data": {
      "text/plain": [
       "dict_values(['one', 'two', 'three'])"
      ]
     },
     "execution_count": 23,
     "metadata": {},
     "output_type": "execute_result"
    }
   ],
   "source": [
    "d1.values()"
   ]
  },
  {
   "cell_type": "code",
   "execution_count": 24,
   "id": "47616952-4aff-44fb-bf07-6a9fcf4a67a4",
   "metadata": {},
   "outputs": [
    {
     "data": {
      "text/plain": [
       "dict_items([(1, 'one'), (2, 'two'), (3, 'three')])"
      ]
     },
     "execution_count": 24,
     "metadata": {},
     "output_type": "execute_result"
    }
   ],
   "source": [
    "d1.items()"
   ]
  },
  {
   "cell_type": "code",
   "execution_count": 25,
   "id": "cc6ed790-42b3-4863-921d-8a3dc6cd5451",
   "metadata": {},
   "outputs": [
    {
     "ename": "KeyError",
     "evalue": "0",
     "output_type": "error",
     "traceback": [
      "\u001b[1;31m---------------------------------------------------------------------------\u001b[0m",
      "\u001b[1;31mKeyError\u001b[0m                                  Traceback (most recent call last)",
      "Cell \u001b[1;32mIn[25], line 1\u001b[0m\n\u001b[1;32m----> 1\u001b[0m d1[\u001b[38;5;241m0\u001b[39m]\n",
      "\u001b[1;31mKeyError\u001b[0m: 0"
     ]
    }
   ],
   "source": [
    "d1[0]"
   ]
  },
  {
   "cell_type": "code",
   "execution_count": 26,
   "id": "bb7ab92a-2740-4b0d-9385-0c7803c2cfa4",
   "metadata": {},
   "outputs": [
    {
     "data": {
      "text/plain": [
       "'one'"
      ]
     },
     "execution_count": 26,
     "metadata": {},
     "output_type": "execute_result"
    }
   ],
   "source": [
    "d1[1]"
   ]
  },
  {
   "cell_type": "code",
   "execution_count": 27,
   "id": "75a82ee5-ee56-48e8-8bce-a6638a9276d9",
   "metadata": {},
   "outputs": [
    {
     "ename": "KeyError",
     "evalue": "'one'",
     "output_type": "error",
     "traceback": [
      "\u001b[1;31m---------------------------------------------------------------------------\u001b[0m",
      "\u001b[1;31mKeyError\u001b[0m                                  Traceback (most recent call last)",
      "Cell \u001b[1;32mIn[27], line 1\u001b[0m\n\u001b[1;32m----> 1\u001b[0m d1[\u001b[38;5;124m'\u001b[39m\u001b[38;5;124mone\u001b[39m\u001b[38;5;124m'\u001b[39m]\n",
      "\u001b[1;31mKeyError\u001b[0m: 'one'"
     ]
    }
   ],
   "source": [
    "d1['one']"
   ]
  },
  {
   "cell_type": "code",
   "execution_count": 28,
   "id": "6508985c-08f4-4f7b-a7db-54bb6062bd24",
   "metadata": {},
   "outputs": [
    {
     "data": {
      "text/plain": [
       "'two'"
      ]
     },
     "execution_count": 28,
     "metadata": {},
     "output_type": "execute_result"
    }
   ],
   "source": [
    "d1.get(2)"
   ]
  },
  {
   "cell_type": "code",
   "execution_count": 29,
   "id": "b0b867d1-dce1-4dbb-bb98-141c69e00eae",
   "metadata": {},
   "outputs": [
    {
     "name": "stdout",
     "output_type": "stream",
     "text": [
      "1\n",
      "2\n",
      "3\n"
     ]
    }
   ],
   "source": [
    "for i in d1:\n",
    "    print(i)"
   ]
  },
  {
   "cell_type": "code",
   "execution_count": 30,
   "id": "636b0943-28e0-4fed-84a1-f09010b20b54",
   "metadata": {},
   "outputs": [
    {
     "data": {
      "text/plain": [
       "3106771967616"
      ]
     },
     "execution_count": 30,
     "metadata": {},
     "output_type": "execute_result"
    }
   ],
   "source": [
    "id(d1)"
   ]
  },
  {
   "cell_type": "code",
   "execution_count": 31,
   "id": "62d62ff0-6df9-4de9-9ede-ad4f1e183dd9",
   "metadata": {},
   "outputs": [
    {
     "name": "stdout",
     "output_type": "stream",
     "text": [
      "1 : one\n",
      "2 : two\n",
      "3 : three\n"
     ]
    }
   ],
   "source": [
    "for i in d1:\n",
    "    print(i,':',d1[i])"
   ]
  },
  {
   "cell_type": "code",
   "execution_count": null,
   "id": "aafdf16a-df56-4946-acd2-b06e609d2941",
   "metadata": {},
   "outputs": [],
   "source": []
  }
 ],
 "metadata": {
  "kernelspec": {
   "display_name": "Python 3 (ipykernel)",
   "language": "python",
   "name": "python3"
  },
  "language_info": {
   "codemirror_mode": {
    "name": "ipython",
    "version": 3
   },
   "file_extension": ".py",
   "mimetype": "text/x-python",
   "name": "python",
   "nbconvert_exporter": "python",
   "pygments_lexer": "ipython3",
   "version": "3.13.5"
  }
 },
 "nbformat": 4,
 "nbformat_minor": 5
}
